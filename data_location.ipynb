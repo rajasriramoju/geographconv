{
  "nbformat": 4,
  "nbformat_minor": 0,
  "metadata": {
    "colab": {
      "name": "script_collection.ipynb",
      "provenance": [],
      "collapsed_sections": []
    },
    "kernelspec": {
      "name": "python3",
      "display_name": "Python 3"
    }
  },
  "cells": [
    {
      "cell_type": "code",
      "metadata": {
        "id": "yEFNJkIjuZYs"
      },
      "source": [
        "import numpy as np\n",
        "import time\n",
        "import json\n",
        "import http.client, urllib.parse\n",
        "import tweepy\n",
        "import re\n",
        "import pickle"
      ],
      "execution_count": null,
      "outputs": []
    },
    {
      "cell_type": "code",
      "metadata": {
        "id": "SfKVrRGYuihr"
      },
      "source": [
        "def get_api():\n",
        "  consumer_key = \"F1Sj8AeVD4Ia2F3BzgkaRl5eI\"\n",
        "  consumer_secret = \"AA1WBhNbEHtnYbqlAuSKnVpJSbYfy7RZDlSQoqvouaSigVymPt\"\n",
        "  access_token = \"1267293225435291649-SDx2Lh5hAX2gkkegsarWdLHjabi4AG\"\n",
        "  access_token_secret = \"Kx5NRJ0LnvkRuaFR9aBu7L4MBLeoNr5mPp7blfiVsD6iO\"\n",
        "\n",
        "  auth = tweepy.OAuthHandler(consumer_key, consumer_secret)\n",
        "  auth.set_access_token(access_token, access_token_secret)\n",
        "\n",
        "  #auth = tweepy.AppAuthHandler(consumer_key, consumer_secret)\n",
        "  api = tweepy.API(auth,wait_on_rate_limit=True, wait_on_rate_limit_notify=True)\n",
        "  return api"
      ],
      "execution_count": null,
      "outputs": []
    },
    {
      "cell_type": "code",
      "metadata": {
        "id": "BxTeJYSBv9Yu"
      },
      "source": [
        "inputpath = \"/content/drive/MyDrive/CS245/hey/\"\n",
        "outputpath = \"/content/drive/MyDrive/CS245/after10/4/\""
      ],
      "execution_count": null,
      "outputs": []
    },
    {
      "cell_type": "code",
      "metadata": {
        "id": "2GntypzLum4R"
      },
      "source": [
        "with open (inputpath+'tweets_1.pickle', 'rb') as fp:\n",
        "  status_list = pickle.load(fp)"
      ],
      "execution_count": null,
      "outputs": []
    },
    {
      "cell_type": "code",
      "metadata": {
        "id": "zh9WTCqhux4W"
      },
      "source": [
        "def geocode(x):\n",
        "  if(str(x).lower()==\"none\"):\n",
        "    return 0\n",
        "\n",
        "  conn = http.client.HTTPConnection('api.positionstack.com')\n",
        "  if (re.search(r'([^A-Za-z\\s\\,\\.])+',x)) is not None:\n",
        "    # removes locations that contain special characters\n",
        "    return 0\n",
        "  if (re.search(r'^(([A-Z]+([a-z\\,\\.])*)+(\\s)*)+$',x)) is None:\n",
        "    #removes locations not in title case\n",
        "    return 0\n",
        "  params = urllib.parse.urlencode({\n",
        "      'access_key': '4cb88d6b908d2800c9abc0aee37042a3',\n",
        "      'query': x\n",
        "      })\n",
        "\n",
        "  conn.request('GET', '/v1/forward?{}'.format(params))\n",
        "\n",
        "  res = conn.getresponse()\n",
        "  data = res.read()\n",
        "  data = data.decode('utf-8')\n",
        "  try:\n",
        "    data2 = json.loads(data)\n",
        "    temp = len(data2['data'])\n",
        "    if (temp):\n",
        "      total_conf = 0\n",
        "      coordinates = [0,0]\n",
        "      for i in range(temp):\n",
        "        conf=data2['data'][i]['confidence']\n",
        "        if(conf>=0.5):\n",
        "          coordinates[0] += data2['data'][i]['longitude']*conf\n",
        "          coordinates[1] += data2['data'][i]['latitude']*conf\n",
        "          total_conf+=conf\n",
        "      if(total_conf>0):\n",
        "        coordinates[0] = coordinates[0]/total_conf\n",
        "        coordinates[1] = coordinates[1]/total_conf\n",
        "        return coordinates\n",
        "    else:\n",
        "      return 0\n",
        "  except:\n",
        "    return 0"
      ],
      "execution_count": null,
      "outputs": []
    },
    {
      "cell_type": "code",
      "metadata": {
        "id": "NoTIDUj4u28k"
      },
      "source": [
        "class runner:\n",
        "  def __init__(self):\n",
        "    self.current = 0\n",
        "  def run(self, a, run_num, maximum, batch_size):\n",
        "    self.current = a\n",
        "    statuses = status_list[a:]\n",
        "    print(a)\n",
        "    total = maximum-a\n",
        "    batch_size = batch_size\n",
        "    batch_count = 0\n",
        "    end = 0\n",
        "    api = get_api()\n",
        "    while (end<total):\n",
        "      selected = []\n",
        "      start = batch_count*batch_size\n",
        "      end = min((batch_count+1)*batch_size, total)\n",
        "      print(start, end)\n",
        "      batch_count+=1\n",
        "      if (batch_count%4==0):\n",
        "        # refresh api\n",
        "        #account = 1-account\n",
        "        api = get_api()\n",
        "      count = 0\n",
        "      count_found = 0\n",
        "      for status in statuses[start:end]:\n",
        "        count+=1\n",
        "        if (count%20 ==0):\n",
        "          print(f\"upto number {(batch_count-1)*batch_size+count}\")\n",
        "        user = status.user\n",
        "        if (status.coordinates):\n",
        "          other_tweets = api.user_timeline(user.id, count=200)\n",
        "          number = len(other_tweets)\n",
        "          dic = {}\n",
        "          dic['user'] = user\n",
        "          dic['status'] = status\n",
        "          dic['tweets'] = other_tweets[0:use_num]\n",
        "          dic['location'] = status\n",
        "          dic['type'] = 1\n",
        "          selected.append(dic)\n",
        "          count_found+=1\n",
        "          print(\"found type 1\")\n",
        "          continue\n",
        "        elif (status.place):\n",
        "          other_tweets = api.user_timeline(user.id, count=200)\n",
        "          number = len(other_tweets)\n",
        "          dic = {}\n",
        "          dic['user'] = user\n",
        "          dic['status'] = status\n",
        "          dic['tweets'] = other_tweets[0:use_num]\n",
        "          dic['location'] = status\n",
        "          dic['type'] = 2\n",
        "          selected.append(dic)\n",
        "          count_found+=1\n",
        "          print(\"found type 2\")\n",
        "          continue\n",
        "        loc = geocode(user.location)\n",
        "        if (loc):\n",
        "          other_tweets = api.user_timeline(user.id, count=200)\n",
        "          number = len(other_tweets)\n",
        "          use_num = min(40,number)\n",
        "          dic = {}\n",
        "          dic['user'] = user\n",
        "          dic['status'] = status\n",
        "          dic['tweets'] = other_tweets\n",
        "          dic['location'] = loc\n",
        "          dic['type'] = 3\n",
        "          selected.append(dic)\n",
        "          count_found+=1\n",
        "      print(f'## Batch Number {batch_count} ## \\n count found = {count_found}/{count}')\n",
        "      self.current = a+(batch_count)*batch_size #done before this run + done in previous batches + current count in batch\n",
        "      print(f\"current is {self.current}\")\n",
        "      with open(f'{outputpath}selected_{run_num}_{batch_count}.pickle', 'wb') as fp:\n",
        "        pickle.dump(selected, fp)"
      ],
      "execution_count": null,
      "outputs": []
    },
    {
      "cell_type": "code",
      "metadata": {
        "id": "5lLtKsGTzYHE"
      },
      "source": [
        "runs = 15\n",
        "runner_obj = runner()\n",
        "a = 38300\n",
        "maximum = 40050\n",
        "batch_size = 50\n",
        "e = 0\n",
        "while (a<maximum):\n",
        "  try:\n",
        "    print(f'###### Run number {runs} ######')\n",
        "    runner_obj.run(a,runs, maximum, batch_size) \n",
        "    a = runner_obj.current\n",
        "    print(runner_obj.current)\n",
        "  except Exception as e:\n",
        "    print(e)\n",
        "    print(\"error found\", runner_obj.current, runs)\n",
        "    runs+=1\n",
        "    a = runner_obj.current\n",
        "    if (str(e) == \"Not authorized.\"):\n",
        "      a+=batch_size\n",
        "      #time.sleep(240)\n",
        "      print(a)\n",
        "    time.sleep(60)\n",
        "    #runner_obj.run(runner_obj.current, runs, account, maximum, batch_size)"
      ],
      "execution_count": null,
      "outputs": []
    }
  ]
}
