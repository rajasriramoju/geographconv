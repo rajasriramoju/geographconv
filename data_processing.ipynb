{
  "nbformat": 4,
  "nbformat_minor": 0,
  "metadata": {
    "colab": {
      "name": "Copy of processing.ipynb",
      "provenance": [],
      "collapsed_sections": []
    },
    "kernelspec": {
      "display_name": "Python 3",
      "name": "python3"
    }
  },
  "cells": [
    {
      "cell_type": "code",
      "metadata": {
        "id": "0gAld5khcGBG"
      },
      "source": [
        "import numpy as np\n",
        "import time\n",
        "import json\n",
        "import http.client, urllib.parse\n",
        "import tweepy\n",
        "import pickle\n",
        "import tweepy\n",
        "from os import listdir\n",
        "import pickle\n",
        "import re\n",
        "from os.path import isfile, join, isdir"
      ],
      "execution_count": null,
      "outputs": []
    },
    {
      "cell_type": "code",
      "metadata": {
        "id": "rF3-V8wIWyc7"
      },
      "source": [
        "mypath = \"/content/drive/MyDrive/CS245/after10/\"\n",
        "outputpath = \"/content/drive/MyDrive/CS245/hey/\""
      ],
      "execution_count": null,
      "outputs": []
    },
    {
      "cell_type": "code",
      "metadata": {
        "id": "0cd4J1cF-_HE"
      },
      "source": [
        "onlyfiles = []\n",
        "for f in listdir(mypath):\n",
        "  if (isdir(join(mypath, f))):\n",
        "    newpath = join(mypath, f)\n",
        "    temp = [join(newpath, t) for t in listdir(newpath) if isfile(join(newpath, t))]\n",
        "    onlyfiles.extend(temp)\n",
        "  elif (isfile(join(mypath, f))):\n",
        "    onlyfiles.append(join(mypath, f))"
      ],
      "execution_count": null,
      "outputs": []
    },
    {
      "cell_type": "code",
      "metadata": {
        "id": "ioscNDHNa828"
      },
      "source": [
        "def get_mean(x):\n",
        "  x = np.array(x).reshape(4,2)\n",
        "  mean_val = np.mean(x, axis = 0)\n",
        "  return mean_val"
      ],
      "execution_count": null,
      "outputs": []
    },
    {
      "cell_type": "code",
      "metadata": {
        "id": "DC8tR-3PVj3Z"
      },
      "source": [
        "us_lat_max = 49.5904\n",
        "us_lat_min = 24.9493\n",
        "us_long_max = -66.9326\n",
        "us_long_min = -125.0011"
      ],
      "execution_count": null,
      "outputs": []
    },
    {
      "cell_type": "code",
      "metadata": {
        "colab": {
          "base_uri": "https://localhost:8080/"
        },
        "id": "dohnP330WU4z",
        "outputId": "41ae29de-51ee-49f2-ae0c-c465254a52fc"
      },
      "source": [
        "loc = np.array([-100,30]).reshape(1,2)\n",
        "not_in_us(loc)"
      ],
      "execution_count": null,
      "outputs": [
        {
          "output_type": "execute_result",
          "data": {
            "text/plain": [
              "0"
            ]
          },
          "metadata": {
            "tags": []
          },
          "execution_count": 34
        }
      ]
    },
    {
      "cell_type": "code",
      "metadata": {
        "id": "YPZGAyYZV4yt"
      },
      "source": [
        "def not_in_us(loc):\n",
        "  #loc 0,0 is longitude and 0,1 is latitude\n",
        "  long = loc[0,0]\n",
        "  lat = loc[0,1]\n",
        "  if (long>us_long_min and long<us_long_max):\n",
        "    if (lat>us_lat_min and lat<us_lat_max):\n",
        "      return 0\n",
        "  return 1"
      ],
      "execution_count": null,
      "outputs": []
    },
    {
      "cell_type": "code",
      "metadata": {
        "id": "gIB1yuBSAa53"
      },
      "source": [
        "def preprocess(text):\n",
        "  text = text.replace('\\r','').replace('\\n',' ') #remove new lines\n",
        "  text = re.sub(r'https?:\\/\\/.*[\\r\\n]*', '', text) #remove urls\n",
        "  text = re.sub(r'[^\\w\\d\\s\\@\\#\\.\\,\\:\\;\\-]*', '', text) #remove non alphanumeric\n",
        "  return text"
      ],
      "execution_count": null,
      "outputs": []
    },
    {
      "cell_type": "code",
      "metadata": {
        "id": "YaeMrJKMcYe6"
      },
      "source": [
        "def add_to_dataset(dataset, itemlist, dic, us_filt = False):\n",
        "  for item in itemlist:\n",
        "    user = item['user']\n",
        "    uniq = user.id\n",
        "    if (uniq in dic):\n",
        "      continue\n",
        "    else:\n",
        "      dic[uniq] = 1\n",
        "    id = user.screen_name\n",
        "    #print(user.screen_name)\n",
        "    bow = \"\"\n",
        "    if (item['type']==1):\n",
        "      location = item['location'].coordinates['coordinates']\n",
        "      print(location)\n",
        "    elif (item['type']==2):\n",
        "      location = get_mean(item['location'].place.bounding_box.coordinates)\n",
        "    else:\n",
        "      x = str(user.location)\n",
        "      if (x.lower() == \"none\"):\n",
        "        print(\"oops\")\n",
        "        continue\n",
        "      if (re.search(r'([^A-Za-z\\s\\,\\.])+',x)) is not None:\n",
        "        # removes locations that contain special characters\n",
        "        print(\"oops\")\n",
        "        continue\n",
        "      if (re.search(r'^(([A-Z]+([a-z\\,\\.])*)+(\\s)*)+$',x)) is None:\n",
        "        #removes locations not in title case\n",
        "        print(\"oops\")\n",
        "        continue\n",
        "      location = item['location']\n",
        "    #print(location)\n",
        "    location = np.array(location).reshape(1,2)\n",
        "    if (us_filt and not_in_us(location)):\n",
        "      print(\"not in us\")\n",
        "      continue\n",
        "    loc = str(location[0,1])+'\\t'+str(location[0,0])\n",
        "    #print(loc)\n",
        "    for tweet in item['tweets']:\n",
        "      text = preprocess(tweet.text)\n",
        "      #text= tweet.text.replace('\\r','').replace('\\n',' ')\n",
        "      bow+=text+' ||| '\n",
        "    line = id+'\\t'+loc+'\\t'+bow\n",
        "    #line = bytes(line, \"utf-8\").decode(\"unicode_escape\") # python3 \n",
        "    dataset.append(line)\n",
        "  return 0\n",
        "  #print(line)"
      ],
      "execution_count": null,
      "outputs": []
    },
    {
      "cell_type": "code",
      "metadata": {
        "id": "_q0UAgzlXDaX"
      },
      "source": [
        "dataset = []\n",
        "dic = {}\n",
        "print(len(onlyfiles))\n",
        "for f in onlyfiles:\n",
        "  print(\"######\", f, \"######\")\n",
        "  with open (f, 'rb') as fp:\n",
        "    itemlist = pickle.load(fp)\n",
        "    a = add_to_dataset(dataset, itemlist, dic, us_filt=True)"
      ],
      "execution_count": null,
      "outputs": []
    },
    {
      "cell_type": "code",
      "metadata": {
        "id": "YIWyqBnEl6R0"
      },
      "source": [
        "with open(outputpath+\"dataset_final_us_1.total\", \"w\") as fp:\n",
        "  for line in dataset:\n",
        "    fp.write(str(line)+\"\\n\")"
      ],
      "execution_count": null,
      "outputs": []
    },
    {
      "cell_type": "code",
      "metadata": {
        "colab": {
          "base_uri": "https://localhost:8080/"
        },
        "id": "_0nwuaWSoEFS",
        "outputId": "19d761e4-4e8d-48c7-e890-41024b1183fc"
      },
      "source": [
        "len(dataset)"
      ],
      "execution_count": null,
      "outputs": [
        {
          "output_type": "execute_result",
          "data": {
            "text/plain": [
              "8222"
            ]
          },
          "metadata": {
            "tags": []
          },
          "execution_count": 47
        }
      ]
    },
    {
      "cell_type": "code",
      "metadata": {
        "id": "9tjjUxb6m4Z4"
      },
      "source": [
        "with open(outputpath+\"dataset_update.total\", 'r') as fp:\n",
        "    content2 = fp.readlines()"
      ],
      "execution_count": null,
      "outputs": []
    },
    {
      "cell_type": "code",
      "metadata": {
        "colab": {
          "base_uri": "https://localhost:8080/"
        },
        "id": "VSneBEY-MQIz",
        "outputId": "532e5284-84a2-45d3-a24e-8275b1ef394f"
      },
      "source": [
        "len(content2)"
      ],
      "execution_count": null,
      "outputs": [
        {
          "output_type": "execute_result",
          "data": {
            "text/plain": [
              "9440"
            ]
          },
          "metadata": {
            "tags": []
          },
          "execution_count": 21
        }
      ]
    },
    {
      "cell_type": "code",
      "metadata": {
        "colab": {
          "base_uri": "https://localhost:8080/",
          "height": 160
        },
        "id": "8Mx5TvUtQBOm",
        "outputId": "812b211a-60c7-4e5b-b0bd-1221944d9c1f"
      },
      "source": [
        "content2[0]"
      ],
      "execution_count": null,
      "outputs": [
        {
          "output_type": "execute_result",
          "data": {
            "application/vnd.google.colaboratory.intrinsic+json": {
              "type": "string"
            },
            "text/plain": [
              "'pattymchugh1212\\t41.1179365\\t-77.60468399999999\\tRT @MartynMcL: Nearly 1,200 days ago, I submitted the first in a series of freedom of information requests about US Secret Service spending ||| RT @mmpadellan: This great patriot @afrosabi, canvassing Georgia with Andrew Yang, has reported that many Republicans are voting for Warnoc ||| RT @JohnFetterman: Nobody knows Biden won more than Mr. Giuliani himself.    My dude, who is 1-46 in court- also refuses to be under oa ||| RT @StephenKing: Yes, the books were excellent. ||| Nope  ||| RT @moot_musings: @ReesusP @StephenKing Why does she always look like shes dressed in stolen and repurposed drapes ||| RT @ReesusP: crap, is this @StephenKings new movie   ||| RT @StephenKing: ELECT STUPID PEOPLE is the Florida state motto. |||   ||| RT @KamalaHarris: 46 days until @JoeBiden becomes our 46th president. ||| RT @LouiseMensch: @RepRiggleman @ninaandtito Thank you sir. Country over party. ||| RT @RepRiggleman: Denver L. Riggleman III  Im on the list  ||| RT @robreiner: This cant be stressed enough: Trump is out of his fucking mind. ||| Oh. I know.  Caesars is where we stay. :.  We were there for leap day weekend, then went down at the end of Septem  ||| Really  ||| RT @VitalVegas: Jesus. It took Jewel to break the silence around Tony Hsiehs bizarre, self-destructive lifestyle in Park City.  ||| RT @VitalVegas: @dtyst1 Rebuttal: Big Elvis. ||| RT @VitalVegas: Oh, snap. Ex-Carnaval Court bartender at Circa just made a Fickle Dip for a group from Texas. Were definitely getting the ||| RT @CLSphila: This bill would have given nursing homes immunity from being sued for harm or death caused by failure to provide adequate car ||| Ooooooo thanks for the date.  Im going to try and get a room :  |||   ||| RT @cryborg: DO NOT let this happen. ||| RT @CREWcrew: The EPA illegally destroyed records, deceived the National Archives and Records Administration about that destruction, and fa ||| Anything from @TheDemocrats   ||| RT @JonSmyth01: @PhilipRucker The current Republican party should be shuttered. There is more rot than salvageable wood, they need an entir ||| RT @RadioFreeTom: Update on the Trump rally: racism, grievance, insane claims, and a lot of maskless white people really enjoying it. ||| He is a terrible person, from the beginning.  ||| @michaelnorth @lauferlaw @CaslerNoel @realDonaldTrump I look forward to the forfeiture  ||| RT @michaelnorth: @lauferlaw @pattymchugh1212 @CaslerNoel @realDonaldTrump And a future prison sentence ||| RT @lauferlaw: He did it to change the outcome of the election in Georgia which is a felony.  You might want to mention that. ||| RT @SpiroAgnewGhost: I am at a loss for words, for once. ||| RT @lauferlaw: @maggieNYT He can whisper the answer to you back at the White House, Ms. Duranty. ||| RT @MrJonCryer: I hope he went knowing how much joy he brought people.   #RIPDavidLander ||| RT @LouiseMensch: Note that New York State is prosecuting a child sex trafficker who used private jets. @FBI could easily have done this an ||| RT @lauferlaw: @CaslerNoel @realDonaldTrump And a diaper. ||| RT @CaslerNoel: Trump speech is like The Last Waltz except with more drugs. @realDonaldTrump ||| RT @lauferlaw: Cracking this tonight.  Ignore the noise spewing from Trump, et al.  Biden will be sworn in on Jan 20.  Trump and his sycoph ||| RT @AJDelgado13: lol, of course. Yet, an hour ago, reporters were already Wow, Trump is delivering tonight for Perdue and Loeffler. cc: @ ||| RT @RadioFreeTom: Barr was willing to trash all kinds of constitutional norms - but since he wouldnt just call for invalidating the electi ||| Cant they stop them  ||| \\n'"
            ]
          },
          "metadata": {
            "tags": []
          },
          "execution_count": 22
        }
      ]
    },
    {
      "cell_type": "code",
      "metadata": {
        "colab": {
          "base_uri": "https://localhost:8080/",
          "height": 160
        },
        "id": "NOITyxGcMUJt",
        "outputId": "b609efb4-1330-4cdc-ad8b-f3c935a2386f"
      },
      "source": [
        "content2[4]"
      ],
      "execution_count": null,
      "outputs": [
        {
          "output_type": "execute_result",
          "data": {
            "application/vnd.google.colaboratory.intrinsic+json": {
              "type": "string"
            },
            "text/plain": [
              "'grey_geena\\t32.6782075\\t-83.1738665\\t@RevDrBarber @Jeffdc5 Take what we can now, then fight like hell in Georgia @fairfightaction ||| RT @RevDrBarber: The Republicans who have forced this bill down to 900 billion are sinful and shameful. ||| @tify330 They are blocked. ||| RT @newsbreakApp: Folks loving Sasha Obamas TikTok dance and long nails video ||| @padakitty @MDogee @briebriejoy @ClimateHuman At which point, Dems will be blamed and GOP back in power in four years. ||| No ones doing anything about it.  ||| RT @MeidasTouch: We are putting this ad up on TV multiple times around the Georgia Senate debate on Sunday. We need to raise 81,590 for th ||| RT @DearDean22:   ||| RT @_DionneWarwick: Hi, @chancetherapper. If you are very obviously a rapper why did you put it in your stage name I cannot stop thinking ||| @PettyHeadlines1 Its like that everyday. ||| @notcapnamerica Saddens me. I dont understand this world. ||| @MDogee @padakitty @briebriejoy @ClimateHuman I dont get it, either. I also dont understand why people dont get  ||| RT @SollenbergerRC: SCOOP: In a sworn affidavit, top Trump campaign strategist Jason Miller has told a Florida family court judge that he e ||| RT @amandacarpenter: Someone explain to me how Perdue is able to attend this COVID rally but not a one-on-one debate. ||| RT @SethAbramson: FUN FACT: Donald Trump got his ass handed to him in the 2020 election. He got blown out like a chump. His performance was ||| RT @jilevin: A doctor derided mask wearing. His medical license has been suspended.  ||| Media is letting them get away with it. Are they trying to wipe black people off the face of the earth  ||| You are a true hero Thank you so much  ||| RT @notcapnamerica: Trump is calling for Doug Collins to primary Brian Kemp in 2022  ||| RT @notcapnamerica: I just thought about the fact that the white folks who drained the pool because Dorothy Dandridge swam in it -- probabl ||| Muting all voter depressors Look, even in defeat, Trump voters never stop fighting. GOP voters never get immobiliz  ||| @deathwizard57 @sooze555 Im sorry, but I cannot be demoralized. If we are so distraught that we are unwilling to p  ||| @deathwizard57 Keep the faith. All will be well. We must need to vote. Its tough and depressing, but we have little choice. ||| @daft_editor @Acosta Now they want to hold Joe Biden and Dems to much higher governing standards while allowing GOP  ||| @joanieofor @Acosta @almlie_rachel Most aired his seditious speech in Georgia They will never stop. ||| RT @joanieofor: @Acosta @almlie_rachel America needed the media to ignore him more and not give so much oxygen to his tantrums.  The media ||| @Acosta You and @jorgeramosnews STILL dont get it It was NEVER just about Trump. Mitch McConnell and his band of  ||| @Acosta ITS TOO LATE You normalized him every chance you got and gave him 24-7 coverage ||| RT @MSNBC: WATCH: Actress and activist Rosario Dawson speaks with @AliciaMenendez about how she is helping to make sure that all voters in ||| RT @DrDooleyMD: How is it a handout when its our damn money  You bailed out Wall St.  Now its time for a Peoples Bailout. ||| RT @david_darmofal: President Biden yep, Im calling him that now just talked about how simpatico he was with President Obama. This speci ||| THIS  ||| RT @JCJ_PHD: @grey_geena Oh they were DEAD to me. Same as when they booed  Clinton.  And they lost the south doing that. No Justice or prog ||| @brianstelter Lemme guess: the 25 represent competitive districts. ||| RT @SECollins: Today I voted for @ossoff and @ReverendWarnock  ||| A living legend, of course   ||| RT @cletus1969: @AngelaBelcamino @EdanClay  ||| RT @sparkette123: Well this is a fine kettle we find ourselves in, right Georgia, vote Blue OssoffWarnoff. ||| RT @SykesCharlie: The Devil Went Down to Georgia - The Bulwark  ||| RT @InspiringU2: @RBReich RUN OFF IN GEORGIA  What happens in GEORGIA, effects ALL US Citizens in ALL  50 states.  Get involved monetarily ||| \\n'"
            ]
          },
          "metadata": {
            "tags": []
          },
          "execution_count": 23
        }
      ]
    }
  ]
}