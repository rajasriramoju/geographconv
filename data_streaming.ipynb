{
  "nbformat": 4,
  "nbformat_minor": 0,
  "metadata": {
    "colab": {
      "name": "Copy of collecting.ipynb",
      "provenance": [],
      "collapsed_sections": []
    },
    "kernelspec": {
      "name": "python3",
      "display_name": "Python 3"
    }
  },
  "cells": [
    {
      "cell_type": "code",
      "metadata": {
        "id": "9m1vd6etiJfP"
      },
      "source": [
        "import numpy as np\n",
        "import time\n",
        "import json\n",
        "import http.client, urllib.parse"
      ],
      "execution_count": null,
      "outputs": []
    },
    {
      "cell_type": "code",
      "metadata": {
        "id": "KR2dJ1cLNc7N"
      },
      "source": [
        "import tweepy\n",
        "import pickle\n",
        "\n",
        "class MyStreamListener(tweepy.StreamListener):\n",
        "  def temp(self, max):\n",
        "    self.count = 0\n",
        "    self.total = 0\n",
        "    self.max = max\n",
        "    self.selected_status = []\n",
        "    return 0\n",
        "\n",
        "  def on_status(self, status):\n",
        "    #print(status.coordinates)\n",
        "    #print(status.place)\n",
        "    #print(status.text)\n",
        "    #print(status.user.location)\n",
        "    #try:\n",
        "     # print(status.user.derived.locations.geo.coordinates)\n",
        "     # self.count+=1\n",
        "     #self.selected_status.append(status)\n",
        "    #except:\n",
        "     # print(\"user derived location not available\")\n",
        "    self.total+=1\n",
        "    if(self.total%100==0):\n",
        "      print(self.total)\n",
        "    if (status.coordinates):\n",
        "      self.count+=1\n",
        "      self.selected_status.append(status)\n",
        "    elif (status.place):\n",
        "      self.count+=1\n",
        "      self.selected_status.append(status)\n",
        "    else:\n",
        "      self.selected_status.append(status)\n",
        "    if (self.total>=self.max):\n",
        "      return False\n",
        "  def on_error(self, status_code):\n",
        "    if status_code == 420:\n",
        "      #returning False in on_error disconnects the stream\n",
        "      print(\"420 mofo stop\")\n",
        "      return False\n",
        "\n",
        "def get_api():\n",
        "  consumer_key = \"F1Sj8AeVD4Ia2F3BzgkaRl5eI\"\n",
        "  consumer_secret = \"AA1WBhNbEHtnYbqlAuSKnVpJSbYfy7RZDlSQoqvouaSigVymPt\"\n",
        "  access_token = \"1267293225435291649-SDx2Lh5hAX2gkkegsarWdLHjabi4AG\"\n",
        "  access_token_secret = \"Kx5NRJ0LnvkRuaFR9aBu7L4MBLeoNr5mPp7blfiVsD6iO\"\n",
        "\n",
        "  auth = tweepy.OAuthHandler(consumer_key, consumer_secret)\n",
        "  auth.set_access_token(access_token, access_token_secret)\n",
        "\n",
        "  #auth = tweepy.AppAuthHandler(consumer_key, consumer_secret)\n",
        "  api = tweepy.API(auth,wait_on_rate_limit=True, wait_on_rate_limit_notify=True)\n",
        "  return api"
      ],
      "execution_count": null,
      "outputs": []
    },
    {
      "cell_type": "code",
      "metadata": {
        "id": "GnGM6Z9cNhvz"
      },
      "source": [
        "myStreamListener = MyStreamListener()\n",
        "myStreamListener.temp(50000)\n",
        "api = get_api()\n",
        "myStream = tweepy.Stream(auth = api.auth, listener=myStreamListener)"
      ],
      "execution_count": null,
      "outputs": []
    },
    {
      "cell_type": "code",
      "metadata": {
        "id": "cMDBychmNxso"
      },
      "source": [
        "myStream.filter(track=['covid', 'coronavirus'], languages=[\"en\"])"
      ],
      "execution_count": null,
      "outputs": []
    },
    {
      "cell_type": "code",
      "metadata": {
        "id": "t5q75vbWPa7L"
      },
      "source": [
        "with open('tweets_1.pickle', 'wb') as fp:\n",
        "    pickle.dump(myStreamListener.selected_status, fp)"
      ],
      "execution_count": null,
      "outputs": []
    },
    {
      "cell_type": "code",
      "metadata": {
        "colab": {
          "base_uri": "https://localhost:8080/"
        },
        "id": "yNX3NzVbbmEM",
        "outputId": "7b7723ce-1749-4bfb-d7c6-e800fb1a175e"
      },
      "source": [
        "len(myStreamListener.selected_status)"
      ],
      "execution_count": null,
      "outputs": [
        {
          "output_type": "execute_result",
          "data": {
            "text/plain": [
              "40053"
            ]
          },
          "metadata": {
            "tags": []
          },
          "execution_count": 22
        }
      ]
    }
  ]
}
